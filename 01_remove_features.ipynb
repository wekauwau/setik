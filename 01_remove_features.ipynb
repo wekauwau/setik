{
  "nbformat": 4,
  "nbformat_minor": 0,
  "metadata": {
    "colab": {
      "provenance": []
    },
    "kernelspec": {
      "name": "python3",
      "display_name": "Python 3"
    },
    "language_info": {
      "name": "python"
    }
  },
  "cells": [
    {
      "cell_type": "code",
      "source": [
        "from google.colab import drive\n",
        "drive.mount('/content/drive')"
      ],
      "metadata": {
        "colab": {
          "base_uri": "https://localhost:8080/"
        },
        "id": "GMMP2HZZSeZC",
        "outputId": "3caa0afc-2569-4a87-e01c-694159215670"
      },
      "execution_count": null,
      "outputs": [
        {
          "output_type": "stream",
          "name": "stdout",
          "text": [
            "Drive already mounted at /content/drive; to attempt to forcibly remount, call drive.mount(\"/content/drive\", force_remount=True).\n"
          ]
        }
      ]
    },
    {
      "cell_type": "code",
      "execution_count": null,
      "metadata": {
        "id": "cvi92hZUR5Tw"
      },
      "outputs": [],
      "source": [
        "import pandas as pd"
      ]
    },
    {
      "cell_type": "code",
      "source": [
        "df = pd.read_csv(\"/content/drive/My Drive/Colab/setik/dataset/vehicles.csv\")"
      ],
      "metadata": {
        "id": "HerPaWeZSQhq"
      },
      "execution_count": null,
      "outputs": []
    },
    {
      "cell_type": "code",
      "source": [
        "for i in df.columns:\n",
        "  print(i)"
      ],
      "metadata": {
        "colab": {
          "base_uri": "https://localhost:8080/"
        },
        "id": "eVUxeeHuWOCe",
        "outputId": "acb399c8-719d-4a5e-c934-1537f3b6aeac"
      },
      "execution_count": null,
      "outputs": [
        {
          "output_type": "stream",
          "name": "stdout",
          "text": [
            "id\n",
            "url\n",
            "region\n",
            "region_url\n",
            "price\n",
            "year\n",
            "manufacturer\n",
            "model\n",
            "condition\n",
            "cylinders\n",
            "fuel\n",
            "odometer\n",
            "title_status\n",
            "transmission\n",
            "VIN\n",
            "drive\n",
            "size\n",
            "type\n",
            "paint_color\n",
            "image_url\n",
            "description\n",
            "county\n",
            "state\n",
            "lat\n",
            "long\n",
            "posting_date\n"
          ]
        }
      ]
    },
    {
      "cell_type": "code",
      "source": [
        "df_filtered = df.filter([\n",
        "    'price',\n",
        "    'year',\n",
        "    'manufacturer',\n",
        "    'model',\n",
        "    'condition',\n",
        "    'cylinders',\n",
        "    'fuel',\n",
        "    'odometer',\n",
        "    'transmission',\n",
        "    'drive',\n",
        "    'type',\n",
        "    'paint_color',\n",
        "    'posting_date'\n",
        "]);"
      ],
      "metadata": {
        "id": "UXruesq_U8j3"
      },
      "execution_count": null,
      "outputs": []
    },
    {
      "cell_type": "code",
      "source": [
        "df_filtered.to_csv(\"/content/drive/My Drive/Colab/setik/dataset/01-remove-features.csv\", index=False)"
      ],
      "metadata": {
        "id": "QjSdniMGU_AN"
      },
      "execution_count": null,
      "outputs": []
    },
    {
      "cell_type": "code",
      "source": [
        "df.shape"
      ],
      "metadata": {
        "colab": {
          "base_uri": "https://localhost:8080/"
        },
        "id": "o08M6SqiXWM9",
        "outputId": "384feb28-06e8-4259-86c3-34d4342a07fd"
      },
      "execution_count": null,
      "outputs": [
        {
          "output_type": "execute_result",
          "data": {
            "text/plain": [
              "(426880, 26)"
            ]
          },
          "metadata": {},
          "execution_count": 14
        }
      ]
    },
    {
      "cell_type": "code",
      "source": [
        "df_filtered.shape"
      ],
      "metadata": {
        "colab": {
          "base_uri": "https://localhost:8080/"
        },
        "id": "cE_U3ezxXZiE",
        "outputId": "6c9f3491-981c-412e-ce76-30c451343905"
      },
      "execution_count": null,
      "outputs": [
        {
          "output_type": "execute_result",
          "data": {
            "text/plain": [
              "(426880, 13)"
            ]
          },
          "metadata": {},
          "execution_count": 15
        }
      ]
    }
  ]
}